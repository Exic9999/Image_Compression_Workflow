{
 "cells": [
  {
   "cell_type": "code",
   "execution_count": 14,
   "metadata": {},
   "outputs": [],
   "source": [
    "#Sources Cited\n",
    "#https://shantanujoshi.github.io/python-image-compression/\n",
    "#https://engineeringblog.yelp.com/2017/06/making-photos-smaller.html\n",
    "#https://stackoverflow.com/questions/273946/how-do-i-resize-an-image-using-pil-and-maintain-its-aspect-ratio"
   ]
  },
  {
   "cell_type": "code",
   "execution_count": 15,
   "metadata": {},
   "outputs": [],
   "source": [
    "import os.path\n",
    "import sys\n",
    "from PIL import Image"
   ]
  },
  {
   "cell_type": "code",
   "execution_count": 21,
   "metadata": {},
   "outputs": [],
   "source": [
    "def compressMe(OGfilePath, outPutFilePath, qualInt, fileLimit=1100, maxWidth=2400,maxHeight=1350, verbose=False):\n",
    "    tot = 0\n",
    "    num = 0\n",
    "    #The goal of this script is to reduce file size of images by first reducing\n",
    "    #dimensions and then resorting to compression\n",
    "    for file in os.listdir(OGfilePath):\n",
    "        if os.path.splitext(file)[1].lower() in ('.jpg', 'jpeg'):\n",
    "            imgPath = OGfilePath+file\n",
    "            oldsize = os.stat(imgPath).st_size\n",
    "            picture = Image.open(imgPath)\n",
    "            if oldsize > fileLimit:\n",
    "                \n",
    "                \n",
    "                #Fastest way to reduce file size is to reduce image size\n",
    "                width, height = picture.size\n",
    "                print(\"The original size of {0} is {1} by {2}\".format(file,width,height))\n",
    "                \n",
    "                dimensions = {'width': width, 'height': height}\n",
    "                maxSide =  max(dimensions, key=dimensions.get)\n",
    "                #print(maxSide)\n",
    "                \n",
    "                #if width is the largest size, then scale the image down\n",
    "                #by maintaining aspect ratio per maxWidth\n",
    "                if maxSide == 'width':\n",
    "                    \n",
    "                    wpercent = (maxWidth/float(width))\n",
    "                    hsize = int((float(height)*float(wpercent)))\n",
    "                    picture = picture.resize((maxWidth,hsize))\n",
    "                    picture.save(outPutFilePath+file)\n",
    "                    \n",
    "                #if height is the largest size, then scale the image down\n",
    "                #by maintaining aspect ratio per maxHeight\n",
    "                else:\n",
    "                    #print(picture)\n",
    "                    hpercent = (maxHeight/float(height))\n",
    "                    wsize = int((float(width)*float(hpercent)))\n",
    "                    picture = picture.resize((wsize,maxHeight))\n",
    "                    picture.save(outPutFilePath+file)\n",
    "                \n",
    "                \n",
    "                #Reducing image size should reduce file size, but if file is\n",
    "                #still larger than 1100 then we'll compress based on qualInt\n",
    "                if os.stat(os.path.join(outPutFilePath,file)).st_size > fileLimit:\n",
    "                    savedPic = Image.open(outPutFilePath+file)\n",
    "                    savedPic.save(outPutFilePath+file,\"JPEG\",optimize=True,quality=qualInt)\n",
    "                \n",
    "                #set quality= to the preferred quality. \n",
    "                #I found that 85 has no difference in my 6-10mb files and that 65 is the lowest reasonable number\n",
    "                newsize = os.stat(os.path.join(outPutFilePath,file)).st_size\n",
    "                percent = (oldsize-newsize)/float(oldsize)*100\n",
    "                \n",
    "                if (verbose):\n",
    "                    print(\"File compressed from {0} to {1} or {2}%\".format(oldsize,newsize,percent))\n",
    "                num =+ 1\n",
    "                tot += percent\n",
    "            else:\n",
    "                picture.save(outPutFilePath+file,\"JPEG\",optimize=True)\n",
    "                print(\"Image - {0} has image size of {1} no compression needed.\".format(file, oldsize))\n",
    "    else:\n",
    "        print(\"Not jpg image\")\n",
    "        print(os.path.splitext(file)[1].lower())\n",
    "    \n",
    "    \n",
    "    print(\"Average Compression: %d%\" % (float(tot)/num))\n"
   ]
  },
  {
   "cell_type": "code",
   "execution_count": 22,
   "metadata": {},
   "outputs": [],
   "source": [
    "portfolio = \"F:\\Portfolio_Compression_Test\\\\\""
   ]
  },
  {
   "cell_type": "code",
   "execution_count": 23,
   "metadata": {},
   "outputs": [],
   "source": [
    "outputDir = \"F:\\Portfolio_Compression_Test\\PotfolioOutput\\\\\""
   ]
  },
  {
   "cell_type": "code",
   "execution_count": 25,
   "metadata": {},
   "outputs": [
    {
     "name": "stdout",
     "output_type": "stream",
     "text": [
      "The size of the image is 5184 by 3456\n",
      "The size of the image is 5184 by 3201\n",
      "The size of the image is 16713 by 6000\n",
      "The size of the image is 4176 by 3456\n",
      "The size of the image is 5184 by 2774\n",
      "The size of the image is 1024 by 683\n",
      "The size of the image is 5184 by 3456\n",
      "The size of the image is 5184 by 3456\n",
      "The size of the image is 2000 by 1858\n",
      "The size of the image is 2000 by 1649\n",
      "The size of the image is 3509 by 2230\n",
      "The size of the image is 5184 by 3456\n",
      "The size of the image is 5184 by 3456\n",
      "The size of the image is 2404 by 1948\n",
      "The size of the image is 5184 by 3456\n",
      "The size of the image is 5184 by 3456\n",
      "The size of the image is 5184 by 3456\n",
      "The size of the image is 5184 by 3456\n",
      "The size of the image is 3456 by 5184\n",
      "The size of the image is 3264 by 5184\n",
      "The size of the image is 4050 by 2744\n",
      "The size of the image is 3138 by 4749\n",
      "The size of the image is 4095 by 2958\n",
      "The size of the image is 5184 by 3456\n",
      "The size of the image is 5000 by 5184\n",
      "The size of the image is 3119 by 3683\n",
      "The size of the image is 5184 by 3456\n",
      "The size of the image is 7392 by 3104\n",
      "The size of the image is 10000 by 3100\n",
      "The size of the image is 3448 by 4592\n",
      "The size of the image is 2000 by 650\n",
      "The size of the image is 5184 by 2519\n",
      "The size of the image is 5184 by 5100\n",
      "The size of the image is 4981 by 2475\n",
      "The size of the image is 8482 by 2894\n",
      "The size of the image is 4600 by 4602\n",
      "The size of the image is 3456 by 2304\n",
      "The size of the image is 5184 by 3456\n",
      "The size of the image is 2000 by 857\n",
      "Not jpg image\n",
      ".jpg\n"
     ]
    },
    {
     "ename": "ValueError",
     "evalue": "incomplete format",
     "output_type": "error",
     "traceback": [
      "\u001b[1;31m---------------------------------------------------------------------------\u001b[0m",
      "\u001b[1;31mValueError\u001b[0m                                Traceback (most recent call last)",
      "\u001b[1;32m<ipython-input-25-b4c571308cb5>\u001b[0m in \u001b[0;36m<module>\u001b[1;34m\u001b[0m\n\u001b[1;32m----> 1\u001b[1;33m \u001b[0mcompressMe\u001b[0m\u001b[1;33m(\u001b[0m\u001b[0mportfolio\u001b[0m\u001b[1;33m,\u001b[0m \u001b[0moutputDir\u001b[0m\u001b[1;33m,\u001b[0m \u001b[1;36m95\u001b[0m\u001b[1;33m,\u001b[0m \u001b[1;32mTrue\u001b[0m\u001b[1;33m)\u001b[0m\u001b[1;33m\u001b[0m\u001b[1;33m\u001b[0m\u001b[0m\n\u001b[0m",
      "\u001b[1;32m<ipython-input-21-0a8499ec8698>\u001b[0m in \u001b[0;36mcompressMe\u001b[1;34m(OGfilePath, outPutFilePath, qualInt, fileLimit, maxWidth, maxHeight, verbose)\u001b[0m\n\u001b[0;32m     61\u001b[0m \u001b[1;33m\u001b[0m\u001b[0m\n\u001b[0;32m     62\u001b[0m \u001b[1;33m\u001b[0m\u001b[0m\n\u001b[1;32m---> 63\u001b[1;33m     \u001b[0mprint\u001b[0m\u001b[1;33m(\u001b[0m\u001b[1;34m\"Average Compression: %d%\"\u001b[0m \u001b[1;33m%\u001b[0m \u001b[1;33m(\u001b[0m\u001b[0mfloat\u001b[0m\u001b[1;33m(\u001b[0m\u001b[0mtot\u001b[0m\u001b[1;33m)\u001b[0m\u001b[1;33m/\u001b[0m\u001b[0mnum\u001b[0m\u001b[1;33m)\u001b[0m\u001b[1;33m)\u001b[0m\u001b[1;33m\u001b[0m\u001b[1;33m\u001b[0m\u001b[0m\n\u001b[0m",
      "\u001b[1;31mValueError\u001b[0m: incomplete format"
     ]
    }
   ],
   "source": [
    "compressMe(portfolio, outputDir, 95, True)"
   ]
  },
  {
   "cell_type": "code",
   "execution_count": null,
   "metadata": {},
   "outputs": [],
   "source": []
  }
 ],
 "metadata": {
  "kernelspec": {
   "display_name": "Python 3",
   "language": "python",
   "name": "python3"
  },
  "language_info": {
   "codemirror_mode": {
    "name": "ipython",
    "version": 3
   },
   "file_extension": ".py",
   "mimetype": "text/x-python",
   "name": "python",
   "nbconvert_exporter": "python",
   "pygments_lexer": "ipython3",
   "version": "3.7.3"
  }
 },
 "nbformat": 4,
 "nbformat_minor": 2
}
